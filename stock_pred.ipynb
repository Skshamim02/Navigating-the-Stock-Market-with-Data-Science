{
  "nbformat": 4,
  "nbformat_minor": 0,
  "metadata": {
    "colab": {
      "provenance": [],
      "authorship_tag": "ABX9TyMLU7KiazErTPZLe3GvafAb",
      "include_colab_link": true
    },
    "kernelspec": {
      "name": "python3",
      "display_name": "Python 3"
    },
    "language_info": {
      "name": "python"
    }
  },
  "cells": [
    {
      "cell_type": "markdown",
      "metadata": {
        "id": "view-in-github",
        "colab_type": "text"
      },
      "source": [
        "<a href=\"https://colab.research.google.com/github/Skshamim02/Navigating-the-Stock-Market-with-Data-Science/blob/main/stock_pred.ipynb\" target=\"_parent\"><img src=\"https://colab.research.google.com/assets/colab-badge.svg\" alt=\"Open In Colab\"/></a>"
      ]
    },
    {
      "cell_type": "code",
      "execution_count": 4,
      "metadata": {
        "colab": {
          "base_uri": "https://localhost:8080/"
        },
        "id": "kMKlyb2fCM36",
        "outputId": "52bf819b-b634-4eda-8615-df5abf2ff004"
      },
      "outputs": [
        {
          "output_type": "stream",
          "name": "stdout",
          "text": [
            "Requirement already satisfied: yfinance in /usr/local/lib/python3.10/dist-packages (0.2.28)\n",
            "Requirement already satisfied: pandas>=1.3.0 in /usr/local/lib/python3.10/dist-packages (from yfinance) (1.5.3)\n",
            "Requirement already satisfied: numpy>=1.16.5 in /usr/local/lib/python3.10/dist-packages (from yfinance) (1.23.5)\n",
            "Requirement already satisfied: requests>=2.31 in /usr/local/lib/python3.10/dist-packages (from yfinance) (2.31.0)\n",
            "Requirement already satisfied: multitasking>=0.0.7 in /usr/local/lib/python3.10/dist-packages (from yfinance) (0.0.11)\n",
            "Requirement already satisfied: lxml>=4.9.1 in /usr/local/lib/python3.10/dist-packages (from yfinance) (4.9.3)\n",
            "Requirement already satisfied: appdirs>=1.4.4 in /usr/local/lib/python3.10/dist-packages (from yfinance) (1.4.4)\n",
            "Requirement already satisfied: pytz>=2022.5 in /usr/local/lib/python3.10/dist-packages (from yfinance) (2023.3)\n",
            "Requirement already satisfied: frozendict>=2.3.4 in /usr/local/lib/python3.10/dist-packages (from yfinance) (2.3.8)\n",
            "Requirement already satisfied: beautifulsoup4>=4.11.1 in /usr/local/lib/python3.10/dist-packages (from yfinance) (4.11.2)\n",
            "Requirement already satisfied: html5lib>=1.1 in /usr/local/lib/python3.10/dist-packages (from yfinance) (1.1)\n",
            "Requirement already satisfied: soupsieve>1.2 in /usr/local/lib/python3.10/dist-packages (from beautifulsoup4>=4.11.1->yfinance) (2.4.1)\n",
            "Requirement already satisfied: six>=1.9 in /usr/local/lib/python3.10/dist-packages (from html5lib>=1.1->yfinance) (1.16.0)\n",
            "Requirement already satisfied: webencodings in /usr/local/lib/python3.10/dist-packages (from html5lib>=1.1->yfinance) (0.5.1)\n",
            "Requirement already satisfied: python-dateutil>=2.8.1 in /usr/local/lib/python3.10/dist-packages (from pandas>=1.3.0->yfinance) (2.8.2)\n",
            "Requirement already satisfied: charset-normalizer<4,>=2 in /usr/local/lib/python3.10/dist-packages (from requests>=2.31->yfinance) (3.2.0)\n",
            "Requirement already satisfied: idna<4,>=2.5 in /usr/local/lib/python3.10/dist-packages (from requests>=2.31->yfinance) (3.4)\n",
            "Requirement already satisfied: urllib3<3,>=1.21.1 in /usr/local/lib/python3.10/dist-packages (from requests>=2.31->yfinance) (2.0.4)\n",
            "Requirement already satisfied: certifi>=2017.4.17 in /usr/local/lib/python3.10/dist-packages (from requests>=2.31->yfinance) (2023.7.22)\n",
            "Requirement already satisfied: yahoofinancials in /usr/local/lib/python3.10/dist-packages (1.16)\n",
            "Requirement already satisfied: pytz in /usr/local/lib/python3.10/dist-packages (from yahoofinancials) (2023.3)\n",
            "Requirement already satisfied: requests>=2.26 in /usr/local/lib/python3.10/dist-packages (from yahoofinancials) (2.31.0)\n",
            "Requirement already satisfied: charset-normalizer<4,>=2 in /usr/local/lib/python3.10/dist-packages (from requests>=2.26->yahoofinancials) (3.2.0)\n",
            "Requirement already satisfied: idna<4,>=2.5 in /usr/local/lib/python3.10/dist-packages (from requests>=2.26->yahoofinancials) (3.4)\n",
            "Requirement already satisfied: urllib3<3,>=1.21.1 in /usr/local/lib/python3.10/dist-packages (from requests>=2.26->yahoofinancials) (2.0.4)\n",
            "Requirement already satisfied: certifi>=2017.4.17 in /usr/local/lib/python3.10/dist-packages (from requests>=2.26->yahoofinancials) (2023.7.22)\n"
          ]
        }
      ],
      "source": [
        "!pip install yfinance\n",
        "!pip install yahoofinancials\n",
        "\n",
        "import pandas as pd\n",
        "import yfinance as yf\n",
        "from yahoofinancials import YahooFinancials\n"
      ]
    },
    {
      "cell_type": "code",
      "source": [
        "import yfinance as yf\n",
        "\n",
        "wipro_df = yf.download('WIPRO.NS',\n",
        "                      start='2000-01-01',\n",
        "                      end='2023-08-31',\n",
        "                      progress=False,\n",
        ")\n",
        "print(wipro_df.head())"
      ],
      "metadata": {
        "colab": {
          "base_uri": "https://localhost:8080/"
        },
        "id": "9WdkVJ0tELAc",
        "outputId": "8749421e-6e4e-46fd-df2e-319493363884"
      },
      "execution_count": 18,
      "outputs": [
        {
          "output_type": "stream",
          "name": "stdout",
          "text": [
            "                  Open        High         Low       Close  Adj Close   Volume\n",
            "Date                                                                          \n",
            "2000-01-03  102.150002  102.157501  102.150002  102.157501  83.336517    42639\n",
            "2000-01-04  110.330627  110.330627  110.330627  110.330627  90.003876   117119\n",
            "2000-01-05  110.330627  119.158127  101.812508  112.128754  91.470734  3527919\n",
            "2000-01-06  117.926254  119.362503  104.625008  109.959381  89.701027  1942399\n",
            "2000-01-07  103.162506  103.162506  101.163757  101.163757  82.525856   269599\n"
          ]
        }
      ]
    },
    {
      "cell_type": "code",
      "source": [
        "print(wipro_df)"
      ],
      "metadata": {
        "colab": {
          "base_uri": "https://localhost:8080/"
        },
        "id": "bgJhpdv7FWov",
        "outputId": "14e9fbe6-c17c-4531-adaa-d7783dfdd054"
      },
      "execution_count": 19,
      "outputs": [
        {
          "output_type": "stream",
          "name": "stdout",
          "text": [
            "                  Open        High         Low       Close   Adj Close  \\\n",
            "Date                                                                     \n",
            "2000-01-03  102.150002  102.157501  102.150002  102.157501   83.336517   \n",
            "2000-01-04  110.330627  110.330627  110.330627  110.330627   90.003876   \n",
            "2000-01-05  110.330627  119.158127  101.812508  112.128754   91.470734   \n",
            "2000-01-06  117.926254  119.362503  104.625008  109.959381   89.701027   \n",
            "2000-01-07  103.162506  103.162506  101.163757  101.163757   82.525856   \n",
            "...                ...         ...         ...         ...         ...   \n",
            "2023-08-24  418.750000  420.000000  412.000000  412.700012  412.700012   \n",
            "2023-08-25  410.000000  411.299988  407.100006  409.700012  409.700012   \n",
            "2023-08-28  411.450012  412.450012  407.649994  408.049988  408.049988   \n",
            "2023-08-29  409.649994  411.899994  407.100006  408.100006  408.100006   \n",
            "2023-08-30  410.000000  410.200012  406.649994  407.200012  407.200012   \n",
            "\n",
            "             Volume  \n",
            "Date                 \n",
            "2000-01-03    42639  \n",
            "2000-01-04   117119  \n",
            "2000-01-05  3527919  \n",
            "2000-01-06  1942399  \n",
            "2000-01-07   269599  \n",
            "...             ...  \n",
            "2023-08-24  2888478  \n",
            "2023-08-25  3299255  \n",
            "2023-08-28  1700987  \n",
            "2023-08-29  1999281  \n",
            "2023-08-30  2009091  \n",
            "\n",
            "[5912 rows x 6 columns]\n"
          ]
        }
      ]
    },
    {
      "cell_type": "code",
      "source": [
        "ticker = yf.Ticker('WIPRO.NS')\n",
        "wipro_df = ticker.history(period=\"7y\")\n",
        "wipro_df['Close'].plot(title=\"WIPRO.NS's stock price\")"
      ],
      "metadata": {
        "colab": {
          "base_uri": "https://localhost:8080/",
          "height": 461
        },
        "id": "BKuMBh3zGSJr",
        "outputId": "2d066bce-d93d-4f31-93f4-f28daf14ebb0"
      },
      "execution_count": 20,
      "outputs": [
        {
          "output_type": "execute_result",
          "data": {
            "text/plain": [
              "<Axes: title={'center': \"WIPRO.NS's stock price\"}, xlabel='Date'>"
            ]
          },
          "metadata": {},
          "execution_count": 20
        },
        {
          "output_type": "display_data",
          "data": {
            "text/plain": [
              "<Figure size 640x480 with 1 Axes>"
            ],
            "image/png": "[encoded data removed]"
          },
          "metadata": {}
        }
      ]
    },
    {
      "cell_type": "code",
      "source": [
        "import pandas as pd\n",
        "import numpy as np\n",
        "import tensorflow as tf\n",
        "import matplotlib.pyplot as plt\n",
        "%matplotlib inline\n",
        "from keras.models import Sequential\n",
        "from keras.layers import LSTM\n",
        "from keras.layers import Dropout\n",
        "from keras.layers import Dense"
      ],
      "metadata": {
        "id": "ANIeVB1kHawR"
      },
      "execution_count": 21,
      "outputs": []
    },
    {
      "cell_type": "code",
      "source": [
        "wipro_df = wipro_df.reset_index()[['Close', 'High', 'Low', 'Open']]\n",
        "\n"
      ],
      "metadata": {
        "id": "3vMaMvMlQTAP"
      },
      "execution_count": 22,
      "outputs": []
    },
    {
      "cell_type": "code",
      "source": [
        "wipro_df"
      ],
      "metadata": {
        "colab": {
          "base_uri": "https://localhost:8080/",
          "height": 423
        },
        "id": "BouAsHNSQomi",
        "outputId": "5ddee479-0b67-4bd9-daad-2f1493f67ec1"
      },
      "execution_count": 23,
      "outputs": [
        {
          "output_type": "execute_result",
          "data": {
            "text/plain": [
              "           Close        High         Low        Open\n",
              "0     179.076157  180.660585  177.109294  179.130801\n",
              "1     176.271561  178.365912  175.379188  178.365912\n",
              "2     176.144089  176.854344  174.577875  176.289777\n",
              "3     175.889114  176.799702  174.832839  176.654014\n",
              "4     175.470230  178.384110  174.851034  177.673854\n",
              "...          ...         ...         ...         ...\n",
              "1726  409.700012  411.299988  407.100006  410.000000\n",
              "1727  408.049988  412.450012  407.649994  411.450012\n",
              "1728  408.100006  411.899994  407.100006  409.649994\n",
              "1729  407.200012  410.200012  406.649994  410.000000\n",
              "1730  408.399994  410.000000  406.450012  408.000000\n",
              "\n",
              "[1731 rows x 4 columns]"
            ],
            "text/html": [
              "\n",
              "  <div id=\"df-1fed2236-2c12-4899-9e10-4f198bfaef61\" class=\"colab-df-container\">\n",
              "    <div>\n",
              "<style scoped>\n",
              "    .dataframe tbody tr th:only-of-type {\n",
              "        vertical-align: middle;\n",
              "    }\n",
              "\n",
              "    .dataframe tbody tr th {\n",
              "        vertical-align: top;\n",
              "    }\n",
              "\n",
              "    .dataframe thead th {\n",
              "        text-align: right;\n",
              "    }\n",
              "</style>\n",
              "<table border=\"1\" class=\"dataframe\">\n",
              "  <thead>\n",
              "    <tr style=\"text-align: right;\">\n",
              "      <th></th>\n",
              "      <th>Close</th>\n",
              "      <th>High</th>\n",
              "      <th>Low</th>\n",
              "      <th>Open</th>\n",
              "    </tr>\n",
              "  </thead>\n",
              "  <tbody>\n",
              "    <tr>\n",
              "      <th>0</th>\n",
              "      <td>179.076157</td>\n",
              "      <td>180.660585</td>\n",
              "      <td>177.109294</td>\n",
              "      <td>179.130801</td>\n",
              "    </tr>\n",
              "    <tr>\n",
              "      <th>1</th>\n",
              "      <td>176.271561</td>\n",
              "      <td>178.365912</td>\n",
              "      <td>175.379188</td>\n",
              "      <td>178.365912</td>\n",
              "    </tr>\n",
              "    <tr>\n",
              "      <th>2</th>\n",
              "      <td>176.144089</td>\n",
              "      <td>176.854344</td>\n",
              "      <td>174.577875</td>\n",
              "      <td>176.289777</td>\n",
              "    </tr>\n",
              "    <tr>\n",
              "      <th>3</th>\n",
              "      <td>175.889114</td>\n",
              "      <td>176.799702</td>\n",
              "      <td>174.832839</td>\n",
              "      <td>176.654014</td>\n",
              "    </tr>\n",
              "    <tr>\n",
              "      <th>4</th>\n",
              "      <td>175.470230</td>\n",
              "      <td>178.384110</td>\n",
              "      <td>174.851034</td>\n",
              "      <td>177.673854</td>\n",
              "    </tr>\n",
              "    <tr>\n",
              "      <th>...</th>\n",
              "      <td>...</td>\n",
              "      <td>...</td>\n",
              "      <td>...</td>\n",
              "      <td>...</td>\n",
              "    </tr>\n",
              "    <tr>\n",
              "      <th>1726</th>\n",
              "      <td>409.700012</td>\n",
              "      <td>411.299988</td>\n",
              "      <td>407.100006</td>\n",
              "      <td>410.000000</td>\n",
              "    </tr>\n",
              "    <tr>\n",
              "      <th>1727</th>\n",
              "      <td>408.049988</td>\n",
              "      <td>412.450012</td>\n",
              "      <td>407.649994</td>\n",
              "      <td>411.450012</td>\n",
              "    </tr>\n",
              "    <tr>\n",
              "      <th>1728</th>\n",
              "      <td>408.100006</td>\n",
              "      <td>411.899994</td>\n",
              "      <td>407.100006</td>\n",
              "      <td>409.649994</td>\n",
              "    </tr>\n",
              "    <tr>\n",
              "      <th>1729</th>\n",
              "      <td>407.200012</td>\n",
              "      <td>410.200012</td>\n",
              "      <td>406.649994</td>\n",
              "      <td>410.000000</td>\n",
              "    </tr>\n",
              "    <tr>\n",
              "      <th>1730</th>\n",
              "      <td>408.399994</td>\n",
              "      <td>410.000000</td>\n",
              "      <td>406.450012</td>\n",
              "      <td>408.000000</td>\n",
              "    </tr>\n",
              "  </tbody>\n",
              "</table>\n",
              "<p>1731 rows × 4 columns</p>\n",
              "</div>\n",
              "    <div class=\"colab-df-buttons\">\n",
              "\n",
              "  <div class=\"colab-df-container\">\n",
              "    <button class=\"colab-df-convert\" onclick=\"convertToInteractive('df-1fed2236-2c12-4899-9e10-4f198bfaef61')\"\n",
              "            title=\"Convert this dataframe to an interactive table.\"\n",
              "            style=\"display:none;\">\n",
              "\n",
              "  <svg xmlns=\"http://www.w3.org/2000/svg\" height=\"24px\" viewBox=\"0 -960 960 960\">\n",
              "    <path d=\"M120-120v-720h720v720H120Zm60-500h600v-160H180v160Zm220 220h160v-160H400v160Zm0 220h160v-160H400v160ZM180-400h160v-160H180v160Zm440 0h160v-160H620v160ZM180-180h160v-160H180v160Zm440 0h160v-160H620v160Z\"/>\n",
              "  </svg>\n",
              "    </button>\n",
              "\n",
              "  <style>\n",
              "    .colab-df-container {\n",
              "      display:flex;\n",
              "      gap: 12px;\n",
              "    }\n",
              "\n",
              "    .colab-df-convert {\n",
              "      background-color: #E8F0FE;\n",
              "      border: none;\n",
              "      border-radius: 50%;\n",
              "      cursor: pointer;\n",
              "      display: none;\n",
              "      fill: #1967D2;\n",
              "      height: 32px;\n",
              "      padding: 0 0 0 0;\n",
              "      width: 32px;\n",
              "    }\n",
              "\n",
              "    .colab-df-convert:hover {\n",
              "      background-color: #E2EBFA;\n",
              "      box-shadow: 0px 1px 2px rgba(60, 64, 67, 0.3), 0px 1px 3px 1px rgba(60, 64, 67, 0.15);\n",
              "      fill: #174EA6;\n",
              "    }\n",
              "\n",
              "    .colab-df-buttons div {\n",
              "      margin-bottom: 4px;\n",
              "    }\n",
              "\n",
              "    [theme=dark] .colab-df-convert {\n",
              "      background-color: #3B4455;\n",
              "      fill: #D2E3FC;\n",
              "    }\n",
              "\n",
              "    [theme=dark] .colab-df-convert:hover {\n",
              "      background-color: #434B5C;\n",
              "      box-shadow: 0px 1px 3px 1px rgba(0, 0, 0, 0.15);\n",
              "      filter: drop-shadow(0px 1px 2px rgba(0, 0, 0, 0.3));\n",
              "      fill: #FFFFFF;\n",
              "    }\n",
              "  </style>\n",
              "\n",
              "    <script>\n",
              "      const buttonEl =\n",
              "        document.querySelector('#df-1fed2236-2c12-4899-9e10-4f198bfaef61 button.colab-df-convert');\n",
              "      buttonEl.style.display =\n",
              "        google.colab.kernel.accessAllowed ? 'block' : 'none';\n",
              "\n",
              "      async function convertToInteractive(key) {\n",
              "        const element = document.querySelector('#df-1fed2236-2c12-4899-9e10-4f198bfaef61');\n",
              "        const dataTable =\n",
              "          await google.colab.kernel.invokeFunction('convertToInteractive',\n",
              "                                                    [key], {});\n",
              "        if (!dataTable) return;\n",
              "\n",
              "        const docLinkHtml = 'Like what you see? Visit the ' +\n",
              "          '<a target=\"_blank\" href=https://colab.research.google.com/notebooks/data_table.ipynb>data table notebook</a>'\n",
              "          + ' to learn more about interactive tables.';\n",
              "        element.innerHTML = '';\n",
              "        dataTable['output_type'] = 'display_data';\n",
              "        await google.colab.output.renderOutput(dataTable, element);\n",
              "        const docLink = document.createElement('div');\n",
              "        docLink.innerHTML = docLinkHtml;\n",
              "        element.appendChild(docLink);\n",
              "      }\n",
              "    </script>\n",
              "  </div>\n",
              "\n",
              "\n",
              "<div id=\"df-a930576f-71da-4054-b352-65d51a2b8e53\">\n",
              "  <button class=\"colab-df-quickchart\" onclick=\"quickchart('df-a930576f-71da-4054-b352-65d51a2b8e53')\"\n",
              "            title=\"Suggest charts.\"\n",
              "            style=\"display:none;\">\n",
              "\n",
              "<svg xmlns=\"http://www.w3.org/2000/svg\" height=\"24px\"viewBox=\"0 0 24 24\"\n",
              "     width=\"24px\">\n",
              "    <g>\n",
              "        <path d=\"M19 3H5c-1.1 0-2 .9-2 2v14c0 1.1.9 2 2 2h14c1.1 0 2-.9 2-2V5c0-1.1-.9-2-2-2zM9 17H7v-7h2v7zm4 0h-2V7h2v10zm4 0h-2v-4h2v4z\"/>\n",
              "    </g>\n",
              "</svg>\n",
              "  </button>\n",
              "\n",
              "<style>\n",
              "  .colab-df-quickchart {\n",
              "      --bg-color: #E8F0FE;\n",
              "      --fill-color: #1967D2;\n",
              "      --hover-bg-color: #E2EBFA;\n",
              "      --hover-fill-color: #174EA6;\n",
              "      --disabled-fill-color: #AAA;\n",
              "      --disabled-bg-color: #DDD;\n",
              "  }\n",
              "\n",
              "  [theme=dark] .colab-df-quickchart {\n",
              "      --bg-color: #3B4455;\n",
              "      --fill-color: #D2E3FC;\n",
              "      --hover-bg-color: #434B5C;\n",
              "      --hover-fill-color: #FFFFFF;\n",
              "      --disabled-bg-color: #3B4455;\n",
              "      --disabled-fill-color: #666;\n",
              "  }\n",
              "\n",
              "  .colab-df-quickchart {\n",
              "    background-color: var(--bg-color);\n",
              "    border: none;\n",
              "    border-radius: 50%;\n",
              "    cursor: pointer;\n",
              "    display: none;\n",
              "    fill: var(--fill-color);\n",
              "    height: 32px;\n",
              "    padding: 0;\n",
              "    width: 32px;\n",
              "  }\n",
              "\n",
              "  .colab-df-quickchart:hover {\n",
              "    background-color: var(--hover-bg-color);\n",
              "    box-shadow: 0 1px 2px rgba(60, 64, 67, 0.3), 0 1px 3px 1px rgba(60, 64, 67, 0.15);\n",
              "    fill: var(--button-hover-fill-color);\n",
              "  }\n",
              "\n",
              "  .colab-df-quickchart-complete:disabled,\n",
              "  .colab-df-quickchart-complete:disabled:hover {\n",
              "    background-color: var(--disabled-bg-color);\n",
              "    fill: var(--disabled-fill-color);\n",
              "    box-shadow: none;\n",
              "  }\n",
              "\n",
              "  .colab-df-spinner {\n",
              "    border: 2px solid var(--fill-color);\n",
              "    border-color: transparent;\n",
              "    border-bottom-color: var(--fill-color);\n",
              "    animation:\n",
              "      spin 1s steps(1) infinite;\n",
              "  }\n",
              "\n",
              "  @keyframes spin {\n",
              "    0% {\n",
              "      border-color: transparent;\n",
              "      border-bottom-color: var(--fill-color);\n",
              "      border-left-color: var(--fill-color);\n",
              "    }\n",
              "    20% {\n",
              "      border-color: transparent;\n",
              "      border-left-color: var(--fill-color);\n",
              "      border-top-color: var(--fill-color);\n",
              "    }\n",
              "    30% {\n",
              "      border-color: transparent;\n",
              "      border-left-color: var(--fill-color);\n",
              "      border-top-color: var(--fill-color);\n",
              "      border-right-color: var(--fill-color);\n",
              "    }\n",
              "    40% {\n",
              "      border-color: transparent;\n",
              "      border-right-color: var(--fill-color);\n",
              "      border-top-color: var(--fill-color);\n",
              "    }\n",
              "    60% {\n",
              "      border-color: transparent;\n",
              "      border-right-color: var(--fill-color);\n",
              "    }\n",
              "    80% {\n",
              "      border-color: transparent;\n",
              "      border-right-color: var(--fill-color);\n",
              "      border-bottom-color: var(--fill-color);\n",
              "    }\n",
              "    90% {\n",
              "      border-color: transparent;\n",
              "      border-bottom-color: var(--fill-color);\n",
              "    }\n",
              "  }\n",
              "</style>\n",
              "\n",
              "  <script>\n",
              "    async function quickchart(key) {\n",
              "      const quickchartButtonEl =\n",
              "        document.querySelector('#' + key + ' button');\n",
              "      quickchartButtonEl.disabled = true;  // To prevent multiple clicks.\n",
              "      quickchartButtonEl.classList.add('colab-df-spinner');\n",
              "      try {\n",
              "        const charts = await google.colab.kernel.invokeFunction(\n",
              "            'suggestCharts', [key], {});\n",
              "      } catch (error) {\n",
              "        console.error('Error during call to suggestCharts:', error);\n",
              "      }\n",
              "      quickchartButtonEl.classList.remove('colab-df-spinner');\n",
              "      quickchartButtonEl.classList.add('colab-df-quickchart-complete');\n",
              "    }\n",
              "    (() => {\n",
              "      let quickchartButtonEl =\n",
              "        document.querySelector('#df-a930576f-71da-4054-b352-65d51a2b8e53 button');\n",
              "      quickchartButtonEl.style.display =\n",
              "        google.colab.kernel.accessAllowed ? 'block' : 'none';\n",
              "    })();\n",
              "  </script>\n",
              "</div>\n",
              "    </div>\n",
              "  </div>\n"
            ]
          },
          "metadata": {},
          "execution_count": 23
        }
      ]
    },
    {
      "cell_type": "code",
      "source": [
        "plt.plot(wipro_df)"
      ],
      "metadata": {
        "colab": {
          "base_uri": "https://localhost:8080/",
          "height": 499
        },
        "id": "65SF3_ddQx2U",
        "outputId": "c874d5d0-e8de-483c-b115-76aee322a04a"
      },
      "execution_count": 24,
      "outputs": [
        {
          "output_type": "execute_result",
          "data": {
            "text/plain": [
              "[<matplotlib.lines.Line2D at 0x784fb4179180>,\n",
              " <matplotlib.lines.Line2D at 0x784fb41791e0>,\n",
              " <matplotlib.lines.Line2D at 0x784fb4179210>,\n",
              " <matplotlib.lines.Line2D at 0x784fb4179300>]"
            ]
          },
          "metadata": {},
          "execution_count": 24
        },
        {
          "output_type": "display_data",
          "data": {
            "text/plain": [
              "<Figure size 640x480 with 1 Axes>"
            ],
            "image/png": "[encoded data removed]"
          },
          "metadata": {}
        }
      ]
    },
    {
      "cell_type": "code",
      "source": [
        "from sklearn.preprocessing import MinMaxScaler\n",
        "scaler=MinMaxScaler(feature_range=(0,1))\n",
        "wipro_df=scaler.fit_transform(np.array(wipro_df).reshape(-1,1))\n"
      ],
      "metadata": {
        "id": "1VED7ksOM_58"
      },
      "execution_count": 25,
      "outputs": []
    },
    {
      "cell_type": "code",
      "source": [
        "print(wipro_df)"
      ],
      "metadata": {
        "colab": {
          "base_uri": "https://localhost:8080/"
        },
        "id": "Mo-UzHgPr69m",
        "outputId": "06519f63-cbfb-4758-dc22-592341153fc0"
      },
      "execution_count": 27,
      "outputs": [
        {
          "output_type": "stream",
          "name": "stdout",
          "text": [
            "[[0.05227895]\n",
            " [0.05500085]\n",
            " [0.04890007]\n",
            " ...\n",
            " [0.44898399]\n",
            " [0.44288545]\n",
            " [0.44554818]]\n"
          ]
        }
      ]
    },
    {
      "cell_type": "code",
      "source": [
        "#splitting dataset into train and test split\n",
        "training_size=int(len(wipro_df)*0.65)\n",
        "test_size=len(wipro_df)-training_size\n",
        "train_data,test_data=wipro_df[0:training_size,:],wipro_df[training_size:len(wipro_df),:1]"
      ],
      "metadata": {
        "id": "1BRBEKlbr9ge"
      },
      "execution_count": 28,
      "outputs": []
    },
    {
      "cell_type": "code",
      "source": [
        "training_size,test_size"
      ],
      "metadata": {
        "colab": {
          "base_uri": "https://localhost:8080/"
        },
        "id": "iqreI2acsTmW",
        "outputId": "90188fd5-e352-4ff3-fec7-1c80320c47ee"
      },
      "execution_count": 29,
      "outputs": [
        {
          "output_type": "execute_result",
          "data": {
            "text/plain": [
              "(4500, 2424)"
            ]
          },
          "metadata": {},
          "execution_count": 29
        }
      ]
    },
    {
      "cell_type": "code",
      "source": [
        "train_data"
      ],
      "metadata": {
        "colab": {
          "base_uri": "https://localhost:8080/"
        },
        "id": "j-IkLomIsXbm",
        "outputId": "c30684b3-fc75-4cd7-d920-49c2783f1958"
      },
      "execution_count": 32,
      "outputs": [
        {
          "output_type": "execute_result",
          "data": {
            "text/plain": [
              "array([[0.05227895],\n",
              "       [0.05500085],\n",
              "       [0.04890007],\n",
              "       ...,\n",
              "       [0.45092467],\n",
              "       [0.44065922],\n",
              "       [0.44210144]])"
            ]
          },
          "metadata": {},
          "execution_count": 32
        }
      ]
    },
    {
      "cell_type": "code",
      "source": [
        "import numpy\n",
        "# convert an array of values into a dataset matrix\n",
        "def create_dataset(dataset, time_step=1):\n",
        "\tdataX, dataY = [], []\n",
        "\tfor i in range(len(dataset)-time_step-1):\n",
        "\t\ta = dataset[i:(i+time_step), 0]   ###i=0, 0,1,2,3-----99   100\n",
        "\t\tdataX.append(a)\n",
        "\t\tdataY.append(dataset[i + time_step, 0])\n",
        "\treturn numpy.array(dataX), numpy.array(dataY)"
      ],
      "metadata": {
        "id": "aQvJLdHwssJ8"
      },
      "execution_count": 33,
      "outputs": []
    },
    {
      "cell_type": "code",
      "source": [
        "# reshape into X=t,t+1,t+2,t+3 and Y=t+4\n",
        "time_step = 100\n",
        "X_train, y_train = create_dataset(train_data, time_step)\n",
        "X_test, ytest = create_dataset(test_data, time_step)"
      ],
      "metadata": {
        "id": "GpqB4G9qtWFe"
      },
      "execution_count": 34,
      "outputs": []
    },
    {
      "cell_type": "code",
      "source": [
        "print(X_train.shape), print(y_train.shape)"
      ],
      "metadata": {
        "colab": {
          "base_uri": "https://localhost:8080/"
        },
        "id": "uPPiXxJYtdKD",
        "outputId": "66bcc41d-5c17-4b98-9ad9-0591673580fb"
      },
      "execution_count": 35,
      "outputs": [
        {
          "output_type": "stream",
          "name": "stdout",
          "text": [
            "(4399, 100)\n",
            "(4399,)\n"
          ]
        },
        {
          "output_type": "execute_result",
          "data": {
            "text/plain": [
              "(None, None)"
            ]
          },
          "metadata": {},
          "execution_count": 35
        }
      ]
    },
    {
      "cell_type": "code",
      "source": [
        "print(X_test.shape), print(ytest.shape)"
      ],
      "metadata": {
        "colab": {
          "base_uri": "https://localhost:8080/"
        },
        "id": "xNO4nqkktg0w",
        "outputId": "fb420953-f899-451d-924a-f32da3a4b7ed"
      },
      "execution_count": 36,
      "outputs": [
        {
          "output_type": "stream",
          "name": "stdout",
          "text": [
            "(2323, 100)\n",
            "(2323,)\n"
          ]
        },
        {
          "output_type": "execute_result",
          "data": {
            "text/plain": [
              "(None, None)"
            ]
          },
          "metadata": {},
          "execution_count": 36
        }
      ]
    },
    {
      "cell_type": "code",
      "source": [
        "\n",
        "\n",
        "\n"
      ],
      "metadata": {
        "id": "zMQ_YKWrt5AS"
      },
      "execution_count": 36,
      "outputs": []
    },
    {
      "cell_type": "code",
      "source": [
        "# reshape input to be [samples, time steps, features] which is required for LSTM\n",
        "X_train =X_train.reshape(X_train.shape[0],X_train.shape[1] , 1)\n",
        "X_test = X_test.reshape(X_test.shape[0],X_test.shape[1] , 1)"
      ],
      "metadata": {
        "id": "ZVIH6PuUvSEZ"
      },
      "execution_count": 37,
      "outputs": []
    },
    {
      "cell_type": "code",
      "source": [
        "model=Sequential()\n",
        "model.add(LSTM(50,return_sequences=True,input_shape=(100,1)))\n",
        "model.add(LSTM(50,return_sequences=True))\n",
        "model.add(LSTM(50))\n",
        "model.add(Dense(3))\n",
        "model.compile(loss='mean_squared_error',optimizer='adam')"
      ],
      "metadata": {
        "id": "xS1fJYlUvV8t"
      },
      "execution_count": 40,
      "outputs": []
    },
    {
      "cell_type": "code",
      "source": [
        "model.summary()"
      ],
      "metadata": {
        "colab": {
          "base_uri": "https://localhost:8080/"
        },
        "id": "AGAAKQF8vchv",
        "outputId": "cb63a4f9-20cc-47c6-b366-23bc0c383e3c"
      },
      "execution_count": 41,
      "outputs": [
        {
          "output_type": "stream",
          "name": "stdout",
          "text": [
            "Model: \"sequential_1\"\n",
            "_________________________________________________________________\n",
            " Layer (type)                Output Shape              Param #   \n",
            "=================================================================\n",
            " lstm_3 (LSTM)               (None, 100, 50)           10400     \n",
            "                                                                 \n",
            " lstm_4 (LSTM)               (None, 100, 50)           20200     \n",
            "                                                                 \n",
            " lstm_5 (LSTM)               (None, 50)                20200     \n",
            "                                                                 \n",
            " dense_1 (Dense)             (None, 3)                 153       \n",
            "                                                                 \n",
            "=================================================================\n",
            "Total params: 50,953\n",
            "Trainable params: 50,953\n",
            "Non-trainable params: 0\n",
            "_________________________________________________________________\n"
          ]
        }
      ]
    },
    {
      "cell_type": "code",
      "source": [
        "model.fit(X_train,y_train,validation_data=(X_test,ytest),epochs=100,batch_size=64,verbose=1)\n"
      ],
      "metadata": {
        "colab": {
          "base_uri": "https://localhost:8080/"
        },
        "id": "rsueWc3rvf1E",
        "outputId": "075cc759-0ba3-4b99-b179-675fe3b4eac3"
      },
      "execution_count": 42,
      "outputs": [
        {
          "output_type": "stream",
          "name": "stdout",
          "text": [
            "Epoch 1/100\n",
            "69/69 [==============================] - 24s 234ms/step - loss: 0.0033 - val_loss: 0.0032\n",
            "Epoch 2/100\n",
            "69/69 [==============================] - 15s 217ms/step - loss: 1.6990e-04 - val_loss: 0.0047\n",
            "Epoch 3/100\n",
            "69/69 [==============================] - 19s 272ms/step - loss: 1.5940e-04 - val_loss: 0.0043\n",
            "Epoch 4/100\n",
            "69/69 [==============================] - 15s 218ms/step - loss: 1.4997e-04 - val_loss: 0.0028\n",
            "Epoch 5/100\n",
            "69/69 [==============================] - 15s 224ms/step - loss: 1.4633e-04 - val_loss: 0.0026\n",
            "Epoch 6/100\n",
            "69/69 [==============================] - 21s 310ms/step - loss: 1.4309e-04 - val_loss: 0.0020\n",
            "Epoch 7/100\n",
            "69/69 [==============================] - 15s 217ms/step - loss: 1.4892e-04 - val_loss: 0.0037\n",
            "Epoch 8/100\n",
            "69/69 [==============================] - 15s 218ms/step - loss: 1.3248e-04 - val_loss: 0.0015\n",
            "Epoch 9/100\n",
            "69/69 [==============================] - 16s 236ms/step - loss: 1.3266e-04 - val_loss: 0.0011\n",
            "Epoch 10/100\n",
            "69/69 [==============================] - 17s 245ms/step - loss: 1.1780e-04 - val_loss: 0.0025\n",
            "Epoch 11/100\n",
            "69/69 [==============================] - 15s 217ms/step - loss: 1.0218e-04 - val_loss: 0.0023\n",
            "Epoch 12/100\n",
            "69/69 [==============================] - 18s 263ms/step - loss: 9.9879e-05 - val_loss: 0.0013\n",
            "Epoch 13/100\n",
            "69/69 [==============================] - 17s 253ms/step - loss: 9.9007e-05 - val_loss: 0.0012\n",
            "Epoch 14/100\n",
            "69/69 [==============================] - 15s 219ms/step - loss: 9.9597e-05 - val_loss: 9.9362e-04\n",
            "Epoch 15/100\n",
            "69/69 [==============================] - 15s 224ms/step - loss: 8.4026e-05 - val_loss: 0.0015\n",
            "Epoch 16/100\n",
            "69/69 [==============================] - 15s 222ms/step - loss: 8.9324e-05 - val_loss: 0.0011\n",
            "Epoch 17/100\n",
            "69/69 [==============================] - 18s 265ms/step - loss: 8.9481e-05 - val_loss: 0.0024\n",
            "Epoch 18/100\n",
            "69/69 [==============================] - 15s 223ms/step - loss: 7.8117e-05 - val_loss: 0.0018\n",
            "Epoch 19/100\n",
            "69/69 [==============================] - 15s 221ms/step - loss: 7.3552e-05 - val_loss: 7.4567e-04\n",
            "Epoch 20/100\n",
            "69/69 [==============================] - 15s 223ms/step - loss: 7.1249e-05 - val_loss: 9.5423e-04\n",
            "Epoch 21/100\n",
            "69/69 [==============================] - 16s 232ms/step - loss: 7.4464e-05 - val_loss: 0.0015\n",
            "Epoch 22/100\n",
            "69/69 [==============================] - 15s 219ms/step - loss: 7.3946e-05 - val_loss: 0.0011\n",
            "Epoch 23/100\n",
            "69/69 [==============================] - 16s 227ms/step - loss: 6.5029e-05 - val_loss: 0.0011\n",
            "Epoch 24/100\n",
            "69/69 [==============================] - 15s 222ms/step - loss: 6.1685e-05 - val_loss: 6.1123e-04\n",
            "Epoch 25/100\n",
            "69/69 [==============================] - 16s 231ms/step - loss: 6.4284e-05 - val_loss: 0.0011\n",
            "Epoch 26/100\n",
            "69/69 [==============================] - 16s 232ms/step - loss: 6.1658e-05 - val_loss: 7.4605e-04\n",
            "Epoch 27/100\n",
            "69/69 [==============================] - 16s 237ms/step - loss: 6.2420e-05 - val_loss: 7.5537e-04\n",
            "Epoch 28/100\n",
            "69/69 [==============================] - 15s 224ms/step - loss: 6.4218e-05 - val_loss: 5.7754e-04\n",
            "Epoch 29/100\n",
            "69/69 [==============================] - 16s 230ms/step - loss: 6.4079e-05 - val_loss: 9.1778e-04\n",
            "Epoch 30/100\n",
            "69/69 [==============================] - 15s 223ms/step - loss: 6.2282e-05 - val_loss: 6.1596e-04\n",
            "Epoch 31/100\n",
            "69/69 [==============================] - 15s 221ms/step - loss: 6.1235e-05 - val_loss: 6.9447e-04\n",
            "Epoch 32/100\n",
            "69/69 [==============================] - 15s 217ms/step - loss: 6.6500e-05 - val_loss: 4.3037e-04\n",
            "Epoch 33/100\n",
            "69/69 [==============================] - 15s 219ms/step - loss: 6.5619e-05 - val_loss: 7.6883e-04\n",
            "Epoch 34/100\n",
            "69/69 [==============================] - 16s 231ms/step - loss: 5.8358e-05 - val_loss: 6.4264e-04\n",
            "Epoch 35/100\n",
            "69/69 [==============================] - 16s 228ms/step - loss: 5.7654e-05 - val_loss: 6.4560e-04\n",
            "Epoch 36/100\n",
            "69/69 [==============================] - 15s 222ms/step - loss: 5.8969e-05 - val_loss: 3.4810e-04\n",
            "Epoch 37/100\n",
            "69/69 [==============================] - 15s 224ms/step - loss: 7.5402e-05 - val_loss: 4.3480e-04\n",
            "Epoch 38/100\n",
            "69/69 [==============================] - 16s 230ms/step - loss: 6.2582e-05 - val_loss: 4.8041e-04\n",
            "Epoch 39/100\n",
            "69/69 [==============================] - 16s 225ms/step - loss: 5.8627e-05 - val_loss: 6.1101e-04\n",
            "Epoch 40/100\n",
            "69/69 [==============================] - 15s 222ms/step - loss: 6.2130e-05 - val_loss: 5.8029e-04\n",
            "Epoch 41/100\n",
            "69/69 [==============================] - 16s 231ms/step - loss: 6.2179e-05 - val_loss: 5.5566e-04\n",
            "Epoch 42/100\n",
            "69/69 [==============================] - 17s 247ms/step - loss: 5.8605e-05 - val_loss: 6.9157e-04\n",
            "Epoch 43/100\n",
            "69/69 [==============================] - 16s 227ms/step - loss: 5.5908e-05 - val_loss: 4.1356e-04\n",
            "Epoch 44/100\n",
            "69/69 [==============================] - 15s 221ms/step - loss: 5.6684e-05 - val_loss: 5.0108e-04\n",
            "Epoch 45/100\n",
            "69/69 [==============================] - 15s 225ms/step - loss: 5.9105e-05 - val_loss: 5.0949e-04\n",
            "Epoch 46/100\n",
            "69/69 [==============================] - 16s 234ms/step - loss: 6.1866e-05 - val_loss: 9.6608e-04\n",
            "Epoch 47/100\n",
            "69/69 [==============================] - 16s 234ms/step - loss: 6.1181e-05 - val_loss: 5.7276e-04\n",
            "Epoch 48/100\n",
            "69/69 [==============================] - 16s 231ms/step - loss: 5.4733e-05 - val_loss: 4.0772e-04\n",
            "Epoch 49/100\n",
            "69/69 [==============================] - 16s 225ms/step - loss: 5.9262e-05 - val_loss: 0.0011\n",
            "Epoch 50/100\n",
            "69/69 [==============================] - 16s 230ms/step - loss: 5.4820e-05 - val_loss: 8.8785e-04\n",
            "Epoch 51/100\n",
            "69/69 [==============================] - 15s 223ms/step - loss: 5.6247e-05 - val_loss: 5.8949e-04\n",
            "Epoch 52/100\n",
            "69/69 [==============================] - 15s 222ms/step - loss: 6.1102e-05 - val_loss: 4.7249e-04\n",
            "Epoch 53/100\n",
            "69/69 [==============================] - 15s 218ms/step - loss: 7.0241e-05 - val_loss: 9.3589e-04\n",
            "Epoch 54/100\n",
            "69/69 [==============================] - 15s 216ms/step - loss: 5.9072e-05 - val_loss: 5.3537e-04\n",
            "Epoch 55/100\n",
            "69/69 [==============================] - 15s 224ms/step - loss: 6.3347e-05 - val_loss: 8.1838e-04\n",
            "Epoch 56/100\n",
            "69/69 [==============================] - 16s 232ms/step - loss: 6.1028e-05 - val_loss: 5.6665e-04\n",
            "Epoch 57/100\n",
            "69/69 [==============================] - 17s 246ms/step - loss: 5.6537e-05 - val_loss: 0.0016\n",
            "Epoch 58/100\n",
            "69/69 [==============================] - 15s 223ms/step - loss: 6.2140e-05 - val_loss: 0.0017\n",
            "Epoch 59/100\n",
            "69/69 [==============================] - 15s 224ms/step - loss: 7.7722e-05 - val_loss: 7.5619e-04\n",
            "Epoch 60/100\n",
            "69/69 [==============================] - 16s 227ms/step - loss: 5.8502e-05 - val_loss: 4.6086e-04\n",
            "Epoch 61/100\n",
            "69/69 [==============================] - 15s 223ms/step - loss: 5.8855e-05 - val_loss: 5.7669e-04\n",
            "Epoch 62/100\n",
            "69/69 [==============================] - 15s 218ms/step - loss: 5.5939e-05 - val_loss: 0.0012\n",
            "Epoch 63/100\n",
            "69/69 [==============================] - 15s 217ms/step - loss: 6.4685e-05 - val_loss: 7.1969e-04\n",
            "Epoch 64/100\n",
            "69/69 [==============================] - 16s 235ms/step - loss: 7.0711e-05 - val_loss: 0.0012\n",
            "Epoch 65/100\n",
            "69/69 [==============================] - 15s 219ms/step - loss: 5.5661e-05 - val_loss: 7.1670e-04\n",
            "Epoch 66/100\n",
            "69/69 [==============================] - 16s 227ms/step - loss: 5.4278e-05 - val_loss: 8.7055e-04\n",
            "Epoch 67/100\n",
            "69/69 [==============================] - 15s 224ms/step - loss: 6.4251e-05 - val_loss: 7.7653e-04\n",
            "Epoch 68/100\n",
            "69/69 [==============================] - 16s 232ms/step - loss: 6.3580e-05 - val_loss: 0.0011\n",
            "Epoch 69/100\n",
            "69/69 [==============================] - 16s 233ms/step - loss: 5.5694e-05 - val_loss: 6.1987e-04\n",
            "Epoch 70/100\n",
            "69/69 [==============================] - 16s 227ms/step - loss: 6.1131e-05 - val_loss: 4.8107e-04\n",
            "Epoch 71/100\n",
            "69/69 [==============================] - 16s 231ms/step - loss: 7.5243e-05 - val_loss: 8.3317e-04\n",
            "Epoch 72/100\n",
            "69/69 [==============================] - 16s 234ms/step - loss: 5.7176e-05 - val_loss: 8.8336e-04\n",
            "Epoch 73/100\n",
            "69/69 [==============================] - 15s 220ms/step - loss: 6.0385e-05 - val_loss: 0.0012\n",
            "Epoch 74/100\n",
            "69/69 [==============================] - 15s 221ms/step - loss: 5.4511e-05 - val_loss: 6.8752e-04\n",
            "Epoch 75/100\n",
            "69/69 [==============================] - 15s 215ms/step - loss: 5.5149e-05 - val_loss: 4.5796e-04\n",
            "Epoch 76/100\n",
            "69/69 [==============================] - 15s 224ms/step - loss: 5.5308e-05 - val_loss: 7.8200e-04\n",
            "Epoch 77/100\n",
            "69/69 [==============================] - 15s 223ms/step - loss: 5.5542e-05 - val_loss: 6.8543e-04\n",
            "Epoch 78/100\n",
            "69/69 [==============================] - 15s 222ms/step - loss: 5.3659e-05 - val_loss: 8.2956e-04\n",
            "Epoch 79/100\n",
            "69/69 [==============================] - 15s 219ms/step - loss: 5.6717e-05 - val_loss: 8.3080e-04\n",
            "Epoch 80/100\n",
            "69/69 [==============================] - 15s 219ms/step - loss: 6.4078e-05 - val_loss: 0.0017\n",
            "Epoch 81/100\n",
            "69/69 [==============================] - 15s 222ms/step - loss: 6.1813e-05 - val_loss: 8.1454e-04\n",
            "Epoch 82/100\n",
            "69/69 [==============================] - 15s 224ms/step - loss: 5.5835e-05 - val_loss: 4.8787e-04\n",
            "Epoch 83/100\n",
            "69/69 [==============================] - 16s 227ms/step - loss: 5.8897e-05 - val_loss: 6.6617e-04\n",
            "Epoch 84/100\n",
            "69/69 [==============================] - 15s 222ms/step - loss: 5.7505e-05 - val_loss: 0.0011\n",
            "Epoch 85/100\n",
            "69/69 [==============================] - 16s 230ms/step - loss: 5.5488e-05 - val_loss: 0.0013\n",
            "Epoch 86/100\n",
            "69/69 [==============================] - 16s 231ms/step - loss: 6.5600e-05 - val_loss: 0.0010\n",
            "Epoch 87/100\n",
            "69/69 [==============================] - 16s 231ms/step - loss: 5.6426e-05 - val_loss: 8.8184e-04\n",
            "Epoch 88/100\n",
            "69/69 [==============================] - 15s 224ms/step - loss: 5.2769e-05 - val_loss: 5.6600e-04\n",
            "Epoch 89/100\n",
            "69/69 [==============================] - 15s 218ms/step - loss: 5.4666e-05 - val_loss: 5.4400e-04\n",
            "Epoch 90/100\n",
            "69/69 [==============================] - 15s 215ms/step - loss: 5.2596e-05 - val_loss: 8.6550e-04\n",
            "Epoch 91/100\n",
            "69/69 [==============================] - 15s 217ms/step - loss: 5.9029e-05 - val_loss: 8.4906e-04\n",
            "Epoch 92/100\n",
            "69/69 [==============================] - 16s 229ms/step - loss: 5.8063e-05 - val_loss: 0.0015\n",
            "Epoch 93/100\n",
            "69/69 [==============================] - 15s 216ms/step - loss: 5.8732e-05 - val_loss: 6.1518e-04\n",
            "Epoch 94/100\n",
            "69/69 [==============================] - 15s 219ms/step - loss: 6.4540e-05 - val_loss: 9.0961e-04\n",
            "Epoch 95/100\n",
            "69/69 [==============================] - 15s 222ms/step - loss: 5.4189e-05 - val_loss: 8.8748e-04\n",
            "Epoch 96/100\n",
            "69/69 [==============================] - 16s 225ms/step - loss: 6.1743e-05 - val_loss: 0.0013\n",
            "Epoch 97/100\n",
            "69/69 [==============================] - 16s 228ms/step - loss: 6.2568e-05 - val_loss: 6.8452e-04\n",
            "Epoch 98/100\n",
            "69/69 [==============================] - 15s 218ms/step - loss: 5.3367e-05 - val_loss: 7.4533e-04\n",
            "Epoch 99/100\n",
            "69/69 [==============================] - 15s 220ms/step - loss: 5.9515e-05 - val_loss: 8.6166e-04\n",
            "Epoch 100/100\n",
            "69/69 [==============================] - 16s 229ms/step - loss: 5.6009e-05 - val_loss: 6.7018e-04\n"
          ]
        },
        {
          "output_type": "execute_result",
          "data": {
            "text/plain": [
              "<keras.callbacks.History at 0x784face90700>"
            ]
          },
          "metadata": {},
          "execution_count": 42
        }
      ]
    },
    {
      "cell_type": "code",
      "source": [],
      "metadata": {
        "id": "uTNajumLvu8H"
      },
      "execution_count": null,
      "outputs": []
    }
  ]
}